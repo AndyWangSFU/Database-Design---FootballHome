{
 "cells": [
  {
   "cell_type": "code",
   "execution_count": 1,
   "metadata": {},
   "outputs": [],
   "source": [
    "%load_ext sql"
   ]
  },
  {
   "cell_type": "code",
   "execution_count": 2,
   "metadata": {},
   "outputs": [
    {
     "data": {
      "text/plain": [
       "'Connected: @football.db'"
      ]
     },
     "execution_count": 2,
     "metadata": {},
     "output_type": "execute_result"
    }
   ],
   "source": [
    "%sql sqlite:///football.db"
   ]
  },
  {
   "cell_type": "code",
   "execution_count": 3,
   "metadata": {},
   "outputs": [
    {
     "name": "stdout",
     "output_type": "stream",
     "text": [
      " * sqlite:///football.db\n",
      "Done.\n"
     ]
    },
    {
     "data": {
      "text/plain": [
       "[]"
      ]
     },
     "execution_count": 3,
     "metadata": {},
     "output_type": "execute_result"
    }
   ],
   "source": [
    "%%sql\n",
    "CREATE TABLE FootballTeam(\n",
    "    TeamName    varchar(255)  PRIMARY KEY,\n",
    "    Country     text,\n",
    "    City        text  DEFAULT NULL,\n",
    "    Founded     date CHECK (Founded < date('now')) ,\n",
    "    FOREIGN KEY (TeamName) REFERENCES Manage(TeamName),\n",
    "    FOREIGN KEY (TeamName) REFERENCES BelongTo(TeamName),\n",
    "    FOREIGN KEY (TeamName) REFERENCES Plays(TeamName)\n",
    ")"
   ]
  },
  {
   "cell_type": "code",
   "execution_count": 4,
   "metadata": {},
   "outputs": [
    {
     "name": "stdout",
     "output_type": "stream",
     "text": [
      " * sqlite:///football.db\n",
      "Done.\n"
     ]
    },
    {
     "data": {
      "text/plain": [
       "[]"
      ]
     },
     "execution_count": 4,
     "metadata": {},
     "output_type": "execute_result"
    }
   ],
   "source": [
    "%%sql\n",
    "CREATE TABLE HeadCoach(\n",
    "    Name            varchar(255),\n",
    "    DateOfBirth     date CHECK (DateOfBirth < date('now')),\n",
    "    CoachingYears   INT,\n",
    "    Gender          varchar(1) CONSTRAINT genderCheck CHECK (Gender IN ('M', 'F')),\n",
    "    PRIMARY KEY     (Name, DateOfBirth),\n",
    "    FOREIGN KEY (Name) REFERENCES Manage(headCoachName)\n",
    ")"
   ]
  },
  {
   "cell_type": "code",
   "execution_count": 5,
   "metadata": {},
   "outputs": [
    {
     "name": "stdout",
     "output_type": "stream",
     "text": [
      " * sqlite:///football.db\n",
      "Done.\n"
     ]
    },
    {
     "data": {
      "text/plain": [
       "[]"
      ]
     },
     "execution_count": 5,
     "metadata": {},
     "output_type": "execute_result"
    }
   ],
   "source": [
    "%%sql\n",
    "CREATE TABLE Award(\n",
    "    TeamName       varchar(255) PRIMARY KEY,\n",
    "    Competitions   TEXT,\n",
    "    Titles         INT,\n",
    "    FOREIGN KEY (TeamName) REFERENCES footballTeam(TeamName) ON DELETE CASCADE\n",
    ")"
   ]
  },
  {
   "cell_type": "code",
   "execution_count": 6,
   "metadata": {},
   "outputs": [
    {
     "name": "stdout",
     "output_type": "stream",
     "text": [
      " * sqlite:///football.db\n",
      "Done.\n"
     ]
    },
    {
     "data": {
      "text/plain": [
       "[]"
      ]
     },
     "execution_count": 6,
     "metadata": {},
     "output_type": "execute_result"
    }
   ],
   "source": [
    "%%sql\n",
    "CREATE TABLE Matches(\n",
    "    GameDate       date CHECK (GameDate < date('now')),\n",
    "    HomeTeam       varchar(255),\n",
    "    AwayTeam       varchar(255),\n",
    "    Location       TEXT,\n",
    "    PRIMARY KEY    (GameDate, HomeTeam, AwayTeam),\n",
    "    FOREIGN KEY (GameDate) REFERENCES Plays(GameDate),\n",
    "    FOREIGN KEY (GameDate) REFERENCES Preside(GameDate)\n",
    ")"
   ]
  },
  {
   "cell_type": "code",
   "execution_count": 7,
   "metadata": {},
   "outputs": [
    {
     "name": "stdout",
     "output_type": "stream",
     "text": [
      " * sqlite:///football.db\n",
      "Done.\n"
     ]
    },
    {
     "data": {
      "text/plain": [
       "[]"
      ]
     },
     "execution_count": 7,
     "metadata": {},
     "output_type": "execute_result"
    }
   ],
   "source": [
    "%%sql\n",
    "CREATE TABLE Referees(\n",
    "    Name          varchar(255),\n",
    "    DateOfBirth   date  CHECK (DateOfBirth < date('now')),\n",
    "    Gender        varchar(1)  CHECK (GENDER IN ('M', 'F')),\n",
    "    Country       TEXT,\n",
    "    PRIMARY KEY (Name, DateofBirth)\n",
    "    FOREIGN KEY (Name) REFERENCES Preside(RefereeName)\n",
    ")"
   ]
  },
  {
   "cell_type": "code",
   "execution_count": 8,
   "metadata": {},
   "outputs": [
    {
     "name": "stdout",
     "output_type": "stream",
     "text": [
      " * sqlite:///football.db\n",
      "Done.\n"
     ]
    },
    {
     "data": {
      "text/plain": [
       "[]"
      ]
     },
     "execution_count": 8,
     "metadata": {},
     "output_type": "execute_result"
    }
   ],
   "source": [
    "%%sql\n",
    "CREATE TABLE TeamPlayers(\n",
    "    Name          varchar(255),\n",
    "    DateOfBirth   date  CHECK (DateOfBirth < date('now')),\n",
    "    Gender        varchar(1)   CHECK (Gender IN ('M', 'F')),\n",
    "    Height        FLOAT,\n",
    "    Position      TEXT,\n",
    "    Nationality   TEXT,\n",
    "    PRIMARY KEY   (Name, DateOfBirth),\n",
    "    FOREIGN KEY   (Name) REFERENCES BelongTo(PlayerName) ON DELETE CASCADE\n",
    ")"
   ]
  },
  {
   "cell_type": "code",
   "execution_count": 9,
   "metadata": {},
   "outputs": [
    {
     "name": "stdout",
     "output_type": "stream",
     "text": [
      " * sqlite:///football.db\n",
      "Done.\n"
     ]
    },
    {
     "data": {
      "text/plain": [
       "[]"
      ]
     },
     "execution_count": 9,
     "metadata": {},
     "output_type": "execute_result"
    }
   ],
   "source": [
    "%%sql\n",
    "CREATE TABLE BelongTo(\n",
    "    PlayerName    varchar(255), \n",
    "    TeamName      varchar(255),\n",
    "    DateOfBrith    date  CHECK (DateOfBirth < date('now')),\n",
    "    PRIMARY KEY (PlayerName, TeamName, DateofBirth)\n",
    ")"
   ]
  },
  {
   "cell_type": "code",
   "execution_count": 10,
   "metadata": {},
   "outputs": [
    {
     "name": "stdout",
     "output_type": "stream",
     "text": [
      " * sqlite:///football.db\n",
      "Done.\n"
     ]
    },
    {
     "data": {
      "text/plain": [
       "[]"
      ]
     },
     "execution_count": 10,
     "metadata": {},
     "output_type": "execute_result"
    }
   ],
   "source": [
    "%%sql\n",
    "CREATE TABLE Plays(\n",
    "    TeamName     varchar(255),\n",
    "    GameDate     date CHECK (GameDate < date('now')),\n",
    "    HomeTeam     varchar(255),\n",
    "    AwayTeam     varchar(255),\n",
    "    PRIMARY KEY  (TeamName, GameDate, HomeTeam, AwayTeam)\n",
    ")"
   ]
  },
  {
   "cell_type": "code",
   "execution_count": 11,
   "metadata": {},
   "outputs": [
    {
     "name": "stdout",
     "output_type": "stream",
     "text": [
      " * sqlite:///football.db\n",
      "Done.\n"
     ]
    },
    {
     "data": {
      "text/plain": [
       "[]"
      ]
     },
     "execution_count": 11,
     "metadata": {},
     "output_type": "execute_result"
    }
   ],
   "source": [
    "%%sql\n",
    "CREATE TABLE Manage(\n",
    "    headCoachName   varchar(255),\n",
    "    TeamName        varchar(255),\n",
    "    DateOfBirth     date CHECK (DateOfBirth < date('now')),\n",
    "    PRIMARY KEY     (headCoachName, TeamName, DateOfBirth)\n",
    ")"
   ]
  },
  {
   "cell_type": "code",
   "execution_count": 12,
   "metadata": {},
   "outputs": [
    {
     "name": "stdout",
     "output_type": "stream",
     "text": [
      " * sqlite:///football.db\n",
      "Done.\n"
     ]
    },
    {
     "data": {
      "text/plain": [
       "[]"
      ]
     },
     "execution_count": 12,
     "metadata": {},
     "output_type": "execute_result"
    }
   ],
   "source": [
    "%%sql\n",
    "CREATE TABLE Preside(\n",
    "    GameDate    date  CHECK (GameDate < date('now')),\n",
    "    RefereeName varchar(255),\n",
    "    PRIMARY KEY (GameDate, RefereeName)\n",
    ")"
   ]
  },
  {
   "cell_type": "code",
   "execution_count": 13,
   "metadata": {},
   "outputs": [
    {
     "name": "stdout",
     "output_type": "stream",
     "text": [
      " * sqlite:///football.db\n",
      "Done.\n"
     ]
    },
    {
     "data": {
      "text/plain": [
       "[]"
      ]
     },
     "execution_count": 13,
     "metadata": {},
     "output_type": "execute_result"
    }
   ],
   "source": [
    "%%sql\n",
    "CREATE TABLE RetiredPlayers(\n",
    "    Name         varchar(255),\n",
    "    DateofBirth  date  CHECK (DateOfBirth < date('now')),\n",
    "    RetiredDate  date  CHECK (RetiredDate < date('now')),\n",
    "    FOREIGN KEY  (Name) REFERENCES TeamPlayers(name)\n",
    ")"
   ]
  },
  {
   "cell_type": "markdown",
   "metadata": {},
   "source": [
    "Below are all testing functions \n",
    "\n",
    "Also, try to make up and add 10 tuples in each entity"
   ]
  },
  {
   "cell_type": "markdown",
   "metadata": {},
   "source": [
    "XXXXXXXXXXXXXXXXXXXXXXXXXXXXXXXXXXXXXXXXXXXXXXXXXXXX"
   ]
  },
  {
   "cell_type": "code",
   "execution_count": null,
   "metadata": {},
   "outputs": [],
   "source": []
  },
  {
   "cell_type": "code",
   "execution_count": 14,
   "metadata": {},
   "outputs": [
    {
     "name": "stdout",
     "output_type": "stream",
     "text": [
      " * sqlite:///football.db\n",
      "Done.\n"
     ]
    },
    {
     "data": {
      "text/html": [
       "<table>\n",
       "    <tr>\n",
       "        <th>Name</th>\n",
       "        <th>DateOfBirth</th>\n",
       "        <th>CoachingYears</th>\n",
       "        <th>Gender</th>\n",
       "    </tr>\n",
       "</table>"
      ],
      "text/plain": [
       "[]"
      ]
     },
     "execution_count": 14,
     "metadata": {},
     "output_type": "execute_result"
    }
   ],
   "source": [
    "%%sql\n",
    "SELECT * FROM headcoach"
   ]
  },
  {
   "cell_type": "code",
   "execution_count": null,
   "metadata": {},
   "outputs": [],
   "source": []
  },
  {
   "cell_type": "code",
   "execution_count": 15,
   "metadata": {},
   "outputs": [
    {
     "name": "stdout",
     "output_type": "stream",
     "text": [
      " * sqlite:///football.db\n",
      "10 rows affected.\n"
     ]
    },
    {
     "data": {
      "text/plain": [
       "[]"
      ]
     },
     "execution_count": 15,
     "metadata": {},
     "output_type": "execute_result"
    }
   ],
   "source": [
    "%%sql\n",
    "INSERT INTO footballTeam VALUES ('Inter Milan', 'Italy', 'Milan', '1908-03-09'), \n",
    "('Chelsea','England','London', '1905-03-10'),\n",
    "('Arsenal','England','London','1886-00-00'),\n",
    "('Manchester City','England','Manchester','1880-01-01'),\n",
    "('AC Milan','Italy','Milan','1899-12-16'),\n",
    "('Real Madrid','Spain','Madrid','1902-03-06'),\n",
    "('Barcelona','Spain','Baecelona','1899-11-29'),\n",
    "('Bayern Munchen','Germany','Munchen','1900-02-27'),\n",
    "('Borussia Dortmund','Germany','Dortmund','1909-12-19'),\n",
    "('Paris Saint-Germain','France','Paris','1970-08-12');\n"
   ]
  },
  {
   "cell_type": "code",
   "execution_count": 16,
   "metadata": {
    "scrolled": true
   },
   "outputs": [
    {
     "name": "stdout",
     "output_type": "stream",
     "text": [
      " * sqlite:///football.db\n",
      "10 rows affected.\n"
     ]
    },
    {
     "data": {
      "text/plain": [
       "[]"
      ]
     },
     "execution_count": 16,
     "metadata": {},
     "output_type": "execute_result"
    }
   ],
   "source": [
    "%%sql\n",
    "INSERT INTO Manage Values ('Antonio Conte', 'Inter Milan'),\n",
    "('Niko Kovac','Bayern Munchen'),\n",
    "('Maurizio Sarri','Chelsea'),\n",
    "('Unai Emery Etxegoien','Arsenal'),\n",
    "('Josep Guardiola i Sala','Manchester City'),\n",
    "('Gennaro Ivan Gattuso','AC Milan'),\n",
    "('Zinedine Zidane','Real Madrid'),\n",
    "('Ernesto Valverde Tejedor','Barcelona'),\n",
    "('Alston Atwood','Borussia Dortmund'),\n",
    "('Thomas Tuchel','Paris Saint-Germain');"
   ]
  },
  {
   "cell_type": "code",
   "execution_count": 17,
   "metadata": {},
   "outputs": [
    {
     "name": "stdout",
     "output_type": "stream",
     "text": [
      " * sqlite:///football.db\n",
      "11 rows affected.\n"
     ]
    },
    {
     "data": {
      "text/plain": [
       "[]"
      ]
     },
     "execution_count": 17,
     "metadata": {},
     "output_type": "execute_result"
    }
   ],
   "source": [
    "%%sql\n",
    "INSERT INTO HeadCoach VALUES('Antonio Conte','1957-11-02',2,'M'),\n",
    "('Niko Kovač','1971-10-15',2,'M'),\n",
    "('Maurizio Sarri','1959-01-10',2,'M'),\n",
    "('Unai Emery Etxegoien', '1971-11-03', 1, 'M'), \n",
    "('Josep Guardiola i Sala', '1971-01-08', 3, 'M'), \n",
    "('Gennaro Ivan Gattuso', '1978-01-09', 1, 'M'),\n",
    "('Thomas Tuchel','1973-08-29',2,'M'),\n",
    "('Marco Giampaolo','1967-08-02',1,'M'),\n",
    "('Zinedine Zidane','1972-06-23',2,'M'),\n",
    "('Ernesto Valverde Tejedor','1964-02-09',2,'M'),\n",
    "('Alston Atwood','1972-01-12',3,'M');"
   ]
  },
  {
   "cell_type": "code",
   "execution_count": 18,
   "metadata": {},
   "outputs": [
    {
     "name": "stdout",
     "output_type": "stream",
     "text": [
      " * sqlite:///football.db\n",
      "22 rows affected.\n"
     ]
    },
    {
     "data": {
      "text/plain": [
       "[]"
      ]
     },
     "execution_count": 18,
     "metadata": {},
     "output_type": "execute_result"
    }
   ],
   "source": [
    "%%sql\n",
    "INSERT INTO Plays VALUES ('Inter Milan', '2019-06-02'), ('AC Milan', '2019-06-02'),\n",
    "('Bayern Munchen','2018-04-01'),('Borussia Dortmund','2018-04-01'),\n",
    "('Borussia Dortmund','2017-12-21'),('Bayern Munchen','2017-12-21'),\n",
    "('Bayern Munchen','2017-04-09'),('Borussia Dortmund','2017-04-09'),\n",
    "('Bayern Munchen','2018-11-09'),('Borussia Dortmund','2018-11-09'),\n",
    "('Borussia Dortmund','2017-11-05'),('Bayern Munchen','2017-11-05'),\n",
    "('Baecelona','2016-04-03'),('Real Madrid','2016-04-03'),\n",
    "('Baecelona','2015-03-25'),('Real Madrid','2015-03-25'),\n",
    "('Baecelona','2013-10-26'),('Real Madrid','2013-10-26'),\n",
    "('Real Madrid','2015-11-22'),('Baecelona','2015-11-22'),\n",
    "('Real Madrid','2014-10-25'),('Baecelona','2014-10-25');"
   ]
  },
  {
   "cell_type": "code",
   "execution_count": 19,
   "metadata": {},
   "outputs": [
    {
     "name": "stdout",
     "output_type": "stream",
     "text": [
      " * sqlite:///football.db\n",
      "11 rows affected.\n"
     ]
    },
    {
     "data": {
      "text/plain": [
       "[]"
      ]
     },
     "execution_count": 19,
     "metadata": {},
     "output_type": "execute_result"
    }
   ],
   "source": [
    "%%sql\n",
    "INSERT INTO Matches VALUES ('2019-06-02', 'Inter Milan', 'AC Milan', 'Milan'),\n",
    "('2018-04-01','Bayern Munchen','Borussia Dortmund','Munchen'),\n",
    "('2017-12-21','Bayern Munchen','Borussia Dortmund','Munchen'),\n",
    "('2017-04-09','Bayern Munchen','Borussia Dortmund','Munchen'),\n",
    "('2018-11-09','Borussia Dortmund','Bayern Munchen','Dortmund'),\n",
    "('2017-11-05','Borussia Dortmund','Bayern Munchen','Dortmund'),\n",
    "('2016-04-03','Barcelona','Real Madrid','Barcelona'),\n",
    "('2015-03-25','Barcelona','Real Madrid','Barcelona'),\n",
    "('2013-10-26','Barcelona','Real Madrid','Barcelona'),\n",
    "('2015-11-22','Real Madrid','Baecelona','Madrid'),\n",
    "('2014-10-25','Real Madrid','Baecelona','Madrid')"
   ]
  },
  {
   "cell_type": "code",
   "execution_count": 20,
   "metadata": {},
   "outputs": [
    {
     "name": "stdout",
     "output_type": "stream",
     "text": [
      " * sqlite:///football.db\n",
      "11 rows affected.\n"
     ]
    },
    {
     "data": {
      "text/plain": [
       "[]"
      ]
     },
     "execution_count": 20,
     "metadata": {},
     "output_type": "execute_result"
    }
   ],
   "source": [
    "%%sql\n",
    "INSERT INTO preside VALUES ('2019-06-02', 'Ivy Lavish'),\n",
    "('2018-04-01','Charles Zhao'),\n",
    "('2017-12-21','Andy Lucus'),\n",
    "('2017-04-09','Steven Kolin'),\n",
    "('2018-11-09','Ivy Lavish'),\n",
    "('2017-11-05','Aiden Liam'),\n",
    "('2016-04-03','Nathan Jayden'),\n",
    "('2014-10-25','Nathan Jayden'),\n",
    "('2015-11-22','Brandon Kulun'),\n",
    "('2013-10-26','Anthony Tylor'),\n",
    "('2016-04-03','Aiden Liam');"
   ]
  },
  {
   "cell_type": "code",
   "execution_count": 21,
   "metadata": {},
   "outputs": [
    {
     "name": "stdout",
     "output_type": "stream",
     "text": [
      " * sqlite:///football.db\n",
      "12 rows affected.\n"
     ]
    },
    {
     "data": {
      "text/plain": [
       "[]"
      ]
     },
     "execution_count": 21,
     "metadata": {},
     "output_type": "execute_result"
    }
   ],
   "source": [
    "%%sql\n",
    "INSERT INTO Referees VALUES ('DuoAnziyi', '1991-02-14', 'M', 'China'),\n",
    "('Ivy Lavish', '1995-07-01', 'F', 'England'),\n",
    "('Charles Zhao','1993-09-28','M','America'),\n",
    "('George He','1994-05-06','M','Canada'),\n",
    "('Andy Lucus','1990-09-21','M','France'),\n",
    "('Steven Kolin','1989-10-23','M','Italy'),\n",
    "('David locke','1991-12-11','M','France'),\n",
    "('Evyleen Dove','1990-03-24','F','Italy'),\n",
    "('Anthony Tylor','1996-12-21','M','France'),\n",
    "('Brandon Kulun','1995-11-30','M','England'),\n",
    "('Aiden Liam','1992-07-04','M','Brazil'),\n",
    "('Nathan Jayden','1990-05-07','M','England');"
   ]
  },
  {
   "cell_type": "code",
   "execution_count": 22,
   "metadata": {},
   "outputs": [
    {
     "name": "stdout",
     "output_type": "stream",
     "text": [
      " * sqlite:///football.db\n",
      "106 rows affected.\n"
     ]
    },
    {
     "data": {
      "text/plain": [
       "[]"
      ]
     },
     "execution_count": 22,
     "metadata": {},
     "output_type": "execute_result"
    }
   ],
   "source": [
    "%%sql \n",
    "\n",
    "INSERT INTO BelongTo VALUES ('Robert Lewandowski','Bayern Munchen'),\n",
    "('Manuel Neuer','Bayern Munchen'),\n",
    "('Sven Ulreich','Bayern Munchen'),\n",
    "('Thomas Muller','Bayern Munchen'),\n",
    "('Niklas Sule','Bayern Munchen'),\n",
    "('Jerome Agyenim Boateng','Bayern Munchen'),\n",
    "('David Alaba','Bayern Munchen'),\n",
    "('Joshua Kimmich','Bayern Munchen'),\n",
    "('Thiago','Bayern Munchen'),\n",
    "('Javi Martinez','Bayern Munchen'),\n",
    "('Leon Goretzka','Bayern Munchen'),\n",
    "('Corentin Tolisso','Bayern Munchen'),\n",
    "\n",
    "('Roman Burki','Borussia Dortmund'),\n",
    "('Marwin Hitz','Borussia Dortmund'),\n",
    "('Manuel Akanji','Borussia Dortmund'),\n",
    "('Mats Hummels','Borussia Dortmund'),\n",
    "('Marcel Schmelzer','Borussia Dortmund'),\n",
    "('Mario Gotze','Borussia Dortmund'),\n",
    "('Marco Reus','Borussia Dortmund'),\n",
    "('Marius Wolf','Borussia Dortmund'),\n",
    "('Sebastian Rode','Borussia Dortmund'),\n",
    "('Julian weigl','Borussia Dortmund'),\n",
    "('Thomas Delaney','Borussia Dortmund'),\n",
    "('Axel Witsel','Borussia Dortmund'),\n",
    "\n",
    "('Kepa Arrizabalaga','Chelsea'),\n",
    "('Antonio Rüdiger','Chelsea'),\n",
    "('Marcos Alonso','Chelsea'),\n",
    "('Jorginho','Chelsea'),\n",
    "('Danny Drinkwater','Chelsea'),\n",
    "('Ross Barkley','Chelsea'),\n",
    "('Pedro','Chelsea'),\n",
    "('Willy Caballero','Chelsea'),\n",
    "('Olivier Giroud','Chelsea'),\n",
    "('Davide Zappacosta','Chelsea'),\n",
    "('Willian','Chelsea'),\n",
    "('Andreas Christensen','Chelsea'),\n",
    "\n",
    "('Davide Calabria','AC Milan'),\n",
    "('José Mauri','AC Milan'),\n",
    "('Giacomo Bonaventura','AC Milan'),\n",
    "('Samu Castillejo','AC Milan'),\n",
    "('Suso','AC Milan'),\n",
    "('Fabio Borini','AC Milan'),\n",
    "('Alessio Romagnoli','AC Milan'),\n",
    "('Andrea Bertolacci','AC Milan'),\n",
    "('Riccardo Montolivo','AC Milan'),\n",
    "('Pepe Reina','AC Milan'),\n",
    "('Alessandro Plizzari','AC Milan'),\n",
    "('Diego Laxalt','AC Milan'),\n",
    "\n",
    "('Samir Handanović','Inter Milan'),\n",
    "('Roberto Gagliardini','Inter Milan'),\n",
    "('Stefan de Vrij','Inter Milan'),\n",
    "('Mauro Icardi','Inter Milan'),\n",
    "('Lautaro Martínez','Inter Milan'),\n",
    "\n",
    "('Bernd Leno','Arsenal'),\n",
    "('Mohamed Elneny','Arsenal'),\n",
    "('Sokratis Papastathopoulos','Arsenal'),\n",
    "('Laurent Koscielny','Arsenal'),\n",
    "('Henrikh Mkhitaryan','Arsenal'),\n",
    "('Alexandre Lacazette','Arsenal'),\n",
    "('Lucas Torreira','Arsenal'),\n",
    "('David Ospina','Arsenal'),\n",
    "\n",
    "('Claudio Bravo','Manchester City'),\n",
    "('Kyle Walker','Manchester City'),\n",
    "('Danilo','Manchester City'),\n",
    "('John Stones','Manchester City'),\n",
    "('Raheem Sterling','Manchester City'),\n",
    "('İlkay Gündoğan','Manchester City'),\n",
    "('Gabriel Je','Manchester City'),\n",
    "('Gabriel Jesus','Manchester City'),\n",
    "('Eliaquim Mangala','Manchester City'),\n",
    "('Kevin De Bruyne','Manchester City'),\n",
    "('Fabian Delph','Manchester City'),\n",
    "\n",
    "('Fabian Delph','Real Madrid'),\n",
    "('Dani Carvajal','Real Madrid'),\n",
    "('Jesús Vallejo','Real Madrid'),\n",
    "('Sergio Ramos','Real Madrid'),\n",
    "('Raphaël Varane','Real Madrid'),\n",
    "('Nacho','Real Madrid'),\n",
    "('Mariano','Real Madrid'),\n",
    "('Toni Kroos','Real Madrid'),\n",
    "('Karim Benzema','Real Madrid'),\n",
    "('Gareth Bale','Real Madrid'),\n",
    "('Marcelo','Real Madrid'),\n",
    "\n",
    "('Thiago Silva','Paris Saint-Germain'),\n",
    "('Marquinhos','Paris Saint-Germain'),\n",
    "('Neymar','Paris Saint-Germain'),\n",
    "('Leandro Paredes','Paris Saint-Germain'),\n",
    "('hilo Kehrer','Paris Saint-Germain'),\n",
    "('Presnel Kimpembe','Paris Saint-Germain'),\n",
    "('Marco Verratti','Paris Saint-Germain'),\n",
    "('Edinson Cavani','Paris Saint-Germain'),\n",
    "('Julian Draxler','Paris Saint-Germain'),\n",
    "('Thomas Meunier','Paris Saint-Germain'),\n",
    "('Alphonse Areola','Paris Saint-Germain'),\n",
    "\n",
    "('Marc-André ter Stegen','Barcelona'),\n",
    "('Nélson Semedo','Barcelona'),\n",
    "('Gerard Piqué','Barcelona'),\n",
    "('Ivan Rakitić','Barcelona'),\n",
    "('Sergio Busquets','Barcelona'),\n",
    "('Philippe Coutinho','Barcelona'),\n",
    "('Arthur Melo','Barcelona'),\n",
    "('Luis Suárez','Barcelona'),\n",
    "('Lionel Messi','Barcelona'),\n",
    "('Ousmane Dembélé','Barcelona'),\n",
    "('Jordi Alba','Barcelona'),\n",
    "('Sergi Roberto','Barcelona');"
   ]
  },
  {
   "cell_type": "code",
   "execution_count": 23,
   "metadata": {},
   "outputs": [
    {
     "name": "stdout",
     "output_type": "stream",
     "text": [
      " * sqlite:///football.db\n",
      "106 rows affected.\n"
     ]
    },
    {
     "data": {
      "text/plain": [
       "[]"
      ]
     },
     "execution_count": 23,
     "metadata": {},
     "output_type": "execute_result"
    }
   ],
   "source": [
    "%%sql\n",
    "\n",
    "INSERT INTO TeamPlayers VALUES ('Robert Lewandowski','1988-08-21','M',1.85,'Striker','Poland'),\n",
    "('Manuel Neuer','1986-03-27','M',1.93,'GoalKeeper','West Germany'),\n",
    "('Sven Ulreich','1988-08-03','M',1.92,'GoalKeeper','West Germany'),\n",
    "('Thomas Muller','1989-09-13','M',1.86,'Forward','West Germany'),\n",
    "('Niklas Sule','1995-09-03','M',1.95,'Centre back','Germany'),\n",
    "('Jerome Agyenim Boateng','1988-09-03','M',1.92,'Defender','Germany'),\n",
    "('David Alaba','1992-06-24','M',1.80,'Defender','Austria'),\n",
    "('Joshua Kimmich','1995-02-08','M',1.76,'Central midfielder','Germany'),\n",
    "('Thiago','1991-04-11','M',1.74,'Central midfielder','Italy'),\n",
    "('Javi Martinez','1988-09-02','M',1.90,'Certre back','Spain'),\n",
    "('Leon Goretzka','1995-02-06','M',1.89,'Central midfielder','Germany'),\n",
    "('Corentin Tolisso','1994-08-03','M',1.80,'midfielder','France'),\n",
    "\n",
    "('Roman Burki','1990-11-14','M',1.88,'GoalKeeper','Switzerland'),\n",
    "('Marwin Hitz','1987-09-18','M',193,'GoalKeeper','Switzerland'),\n",
    "('Manuel Akanji','1995-07-19','M',1.86,'Defender','Switzerland'),\n",
    "('Mats Hummels','1988-12-16','M',1.92,'Centre back','Germany'),\n",
    "('Marcel Schmelzer','1988-01-22','M',1.81,'Left back','Germany'),\n",
    "('Mario Gotze','1992-06-03','M',1.76,'Attacking midfielder','Germany'),\n",
    "('Sebastian Rode','1990-10-11','M',1.79,'Midfielder','Germany'),\n",
    "('Marco Reus','1989-05-31','M',1.80,'Forward','West Germany'),\n",
    "('Marius Wolf','1995-05-27','M',1.87,'Right back','Germany'),\n",
    "('Julian weigl','1995-09-08','M',1.87,'Attacking midfielder','Germany'),\n",
    "('Thomas Delaney','1991-09-03','M',1.82,'Midfielder','Denmark'),\n",
    "('Axel Witsel','1989-01-12','M',1.86,'Midfielder','Belgium'),\n",
    "\n",
    "('Kepa Arrizabalaga','1994-10-03','M',1.86,'GoalKeeper','Spain'),\n",
    "('Antonio Rüdiger','1993-03-03','M',1.90,'GoalKeeper','Germany'),\n",
    "('Marcos Alonso','1990-12-28','M',1.88,'Left back','Spain'),\n",
    "('Jorginho','1991-12-20','M',1.80,'Midfielder','Brazil'),\n",
    "('Danny Drinkwater','1990-03-05','M',1.77,'Midfielder','England'),\n",
    "('Ross Barkley','1993-12-05','M',1.85,'Attacking midfielder','England'),\n",
    "('Pedro','1987-07-28','M',1.69,'Forward','Spain'),\n",
    "('Willy Caballero','1981-09-28','M',1.86,'Goalkeeper','Argentina'),\n",
    "('Olivier Giroud','1986-09-30','M',1.93,'Striker','France'),\n",
    "('Davide Zappacosta','1992-06-11','M',1.82,'Right back','Italy'),\n",
    "('Willian','1988-08-09','M',1.75,'Attacking midfielder','Brazil'),\n",
    "('Andreas Christensen','1996-04-10','M',1.88,'Centre back','Denmark'),\n",
    "\n",
    "('Davide Calabria','1996-12-06','M',1.77,'Right back','Italy'),\n",
    "('José Mauri','1996-05-16','M',1.69,'Midfielder','Argentina'),\n",
    "('Giacomo Bonaventura','1989-08-22','M',1.80,'Midfielder','Italy'),\n",
    "('Samu Castillejo','1995-01-18','M',1.82,'Winger','Spain'),\n",
    "('Suso','1993-11-19','M',1.77,'Attacking midfielder','Spain'),\n",
    "('Fabio Borini','1991-03-29','M',1.80,'Winger','Italy'),\n",
    "('Alessio Romagnoli','1995-01-13','M',1.88,'Centre back','Italy'),\n",
    "('Andrea Bertolacci','1991-01-11','M',1.79,'Midfielder','Italy'),\n",
    "('Riccardo Montolivo','1985-01-18','M',1.82,'Midfielder','Italy'),\n",
    "('Pepe Reina','1982-08-31','M',1.88,'Goalkeeper','Spain'),\n",
    "('Alessandro Plizzari','2000-03-12','M',1.91,'Goalkeeper','Italy'),\n",
    "('Diego Laxalt','1993-02-07','M',1.78,'Left back','Uruguary'),\n",
    "\n",
    "('Samir Handanović','1984-07-14','M',1.93,'Goalkeeper','SFR Yugoslavia'),\n",
    "('Roberto Gagliardini','1994-04-07','M',1.90,'Midfielder','Italy'),\n",
    "('Stefan de Vrij','1992-02-05','M',1.89,'Defender','Netherlands'),\n",
    "('Mauro Icardi','1993-02-19','M',1.81,'Striker','Argentina'),\n",
    "('Lautaro Martínez','1997-08-22','M',1.74,'Strick','Argentina'),\n",
    "\n",
    "('Bernd Leno','1992-03-04','M',1.90,'Goalkeeper','Germany'),\n",
    "('Mohamed Elneny','1992-07-11','M',1.80,'Defensive midfielder','Egypt'),\n",
    "('Sokratis Papastathopoulos','1988-06-09','M',1.86,'Centre back','Greece'),\n",
    "('Laurent Koscielny','1985-09-10','M',1.86,'Centre back','France'),\n",
    "('Henrikh Mkhitaryan','1989-01-21','M',1.77,'Midfielder','Soviet Union'),\n",
    "('Alexandre Lacazette','1991-05-28','M',1.75,'Forward','France'),\n",
    "('Lucas Torreira','1996-02-11','M',1.68,'Midfielder','Uruguay'),\n",
    "('David Ospina','1988-08-31','M',1.83,'Goalkeeper','Colombia'),\n",
    "\n",
    "('Claudio Bravo','1983-04-13','M',1.84,'Goalkeeper','Chile'),\n",
    "('Kyle Walker','1990-05-28','M',1.78,'Right back','England'),\n",
    "('Danilo','1991-07-15','M',1.84,'Full back','Brazil'),\n",
    "('John Stones','1994-05-28','M',1.88,'Centre back','England'),\n",
    "('Raheem Sterling','1994-12-08','M',1.70,'Attacking midfielder','Jamaica'),\n",
    "('İlkay Gündoğan','1990-10-24','M',1.80,'Midfielder','Germany'),\n",
    "('Gabriel Je','1997-04-03','M',1.75,'Forward','Brazil'),\n",
    "('Gabriel Jesus','1994-05-27','M',1.91,'Centre back','France'),\n",
    "('Eliaquim Mangala','1991-02-13','M',1.88,'Centre back','France'),\n",
    "('Kevin De Bruyne','1991-06-28','M',1.81,'Midfielder','Belgium'),\n",
    "('Fabian Delph','1989-11-21','M',1.74,'Midfielder','England'),\n",
    "\n",
    "('Fabian Delph','1986-12-15','M',1.85,'Goalkeeper','Coasta Rica'),\n",
    "('Dani Carvajal','1992-01-11','M',1.73,'Right back','Spain'),\n",
    "('Jesús Vallejo','1997-01-05','M',1.84,'Centre back','Spain'),\n",
    "('Sergio Ramos','1986-03-30','M',1.84,'Centre back','Spain'),\n",
    "('Raphaël Varane','1993-04-25','M',1.91,'Centre back','France'),\n",
    "('Nacho','1990-01-18','M',1.80,'Defender','Spain'),\n",
    "('Mariano','1993-08-01','M',1.80,'Striker','Spain'),\n",
    "('Toni Kroos','1990-01-04','M',1.83,'Midfielder','East Germany'),\n",
    "('Karim Benzema','1987-12-19','M',1.85,'Striker','France'),\n",
    "('Gareth Bale','1989-07-16','M',1.85,'Winger','Wales'),\n",
    "('Marcelo','1988-05-12','M',1.74,'Left back','Brazil'),\n",
    "\n",
    "('Thiago Silva','1984-09-22','M',1.83,'Centre back','Brazil'),\n",
    "('Marquinhos','1994-05-14','M',1.83,'Defender','Brazil'),\n",
    "('Neymar','1992-02-05','M',1.75,'Forward','Brazil'),\n",
    "('Leandro Paredes','1994-06-29','M',1.80,'Midfielder','Argentina'),\n",
    "('hilo Kehrer','1996-09-21','M',1.85,'Centre back','Germany'),\n",
    "('Presnel Kimpembe','1995-08-13','M',1.83,'Left back','France'),\n",
    "('Marco Verratti','1992-11-05','M',1.65,'Midfielder','Italy'),\n",
    "('Edinson Cavani','1987-02-14','M',1.84,'Striker','Uruguay'),\n",
    "('Julian Draxler','1993-09-20','M',1.85,'Attacking midfielder','Germany'),\n",
    "('Thomas Meunier','1991-09-12','M',1.90,'Right back','Belgium'),\n",
    "('Alphonse Areola','1993-02-27','M',1.95,'Goalkeeper','France'),\n",
    "\n",
    "('Marc-André ter Stegen','1994-04-30','M',1.87,'Goalkeeper','Germany'),\n",
    "('Nélson Semedo','1993-11-16','M',1.77,'Right back','Portugal'),\n",
    "('Gerard Piqué','1987-02-02','M',1.94,'Centre back','Spain'),\n",
    "('Ivan Rakitić','1988-03-10','M',1.84,'Midfielder','Switzerland'),\n",
    "('Sergio Busquets','1988-07-16','M',1.89,'Defensive midfielder','Spain'),\n",
    "('Philippe Coutinho','1992-06-12','M',1.72,'Attacking midfielder','Brzail'),\n",
    "('Arthur Melo','1996-08-12','M',1.71,'Midfielder','Brazil'),\n",
    "('Luis Suárez','1987-01-24','M',1.82,'Striker','Uruguay'),\n",
    "('Lionel Messi','1987-06-24','M',1.70,'Forward','Argentina'),\n",
    "('Ousmane Dembélé','1997-05-15','M',1.78,'Forward','France'),\n",
    "('Jordi Alba','1989-03-21','M',1.70,'Left back','Spain'),\n",
    "('Sergi Roberto','1992-02-07','M',1.78,'Full back','Spain');"
   ]
  },
  {
   "cell_type": "code",
   "execution_count": 24,
   "metadata": {},
   "outputs": [
    {
     "name": "stdout",
     "output_type": "stream",
     "text": [
      " * sqlite:///football.db\n",
      "11 rows affected.\n"
     ]
    },
    {
     "data": {
      "text/plain": [
       "[]"
      ]
     },
     "execution_count": 24,
     "metadata": {},
     "output_type": "execute_result"
    }
   ],
   "source": [
    "%%sql\n",
    "\n",
    "INSERT INTO Award VALUES ('Bayern Munichen','2009-04-18 CXE',1),\n",
    "('Barcelona','2017-01-31 CXE',2),\n",
    "('Paris Saint-Germain','2005-11-01 CXE',1),\n",
    "('Real Madrid','2012-06-30 CXE',1),\n",
    "('Manchester City','2014-02-28 TAE',3),\n",
    "('Arsneal','2015-05-31 CNM',2),\n",
    "('AC Milan','2000-10-11 CNM',1),\n",
    "('Inter Milan','2017-10-12 CNM',3),\n",
    "('Chelsea','2003-06-01 TAE',5),\n",
    "('Liverpool','2003-01-12 ZIYI',1),\n",
    "('Bayern Munchen','1998-01-01 SSR',2);"
   ]
  },
  {
   "cell_type": "code",
   "execution_count": 25,
   "metadata": {},
   "outputs": [
    {
     "name": "stdout",
     "output_type": "stream",
     "text": [
      " * sqlite:///football.db\n",
      "11 rows affected.\n"
     ]
    },
    {
     "data": {
      "text/plain": [
       "[]"
      ]
     },
     "execution_count": 25,
     "metadata": {},
     "output_type": "execute_result"
    }
   ],
   "source": [
    "%%sql\n",
    "INSERT INTO RetiredPlayers VALUES \n",
    "('GeorgeHe', '1998-02-14'),\n",
    "('ZIYI ANNE', '2016-02-28'),\n",
    "('Bobby Bart', '2008-04-28'),\n",
    "('Nancy Lee', '2019-06-31'),\n",
    "('Nils Burinben', '2013-02-28'),\n",
    "('Charlse Munchen', '1996-02-28'),\n",
    "('Garry Yapa', '1996-02-28'),\n",
    "('Jiandooz Hey', '1996-02-28'),\n",
    "('Doris Wu', '2005-02-28'),\n",
    "('Perry Hansen', '1996-02-28'),\n",
    "('Bruce Bell', '1996-01-31');"
   ]
  },
  {
   "cell_type": "code",
   "execution_count": 26,
   "metadata": {},
   "outputs": [
    {
     "name": "stdout",
     "output_type": "stream",
     "text": [
      " * sqlite:///football.db\n",
      "(sqlite3.OperationalError) near \"OF\": syntax error\n",
      "[SQL: CREATE TRIGGER DateCHECK \n",
      "AFTER INSERT OF Founded ON FootballTeam\n",
      "Referencing \n",
      "    OLD ROW AS oldDate\n",
      "    new row AS newDate\n",
      "FOR EACH ROW WHEN (newDate.founded < date('now'))\n",
      "DELETE FROM FootballTeam WHERE oldDate.founded = newDate.founded]\n",
      "(Background on this error at: http://sqlalche.me/e/e3q8)\n"
     ]
    }
   ],
   "source": [
    "%%sql \n",
    "CREATE TRIGGER DateCHECK \n",
    "AFTER INSERT OF Founded ON FootballTeam\n",
    "Referencing \n",
    "    OLD ROW AS oldDate\n",
    "    new row AS newDate\n",
    "FOR EACH ROW WHEN (newDate.founded < date('now'))\n",
    "DELETE FROM FootballTeam WHERE oldDate.founded = newDate.founded"
   ]
  },
  {
   "cell_type": "code",
   "execution_count": null,
   "metadata": {},
   "outputs": [],
   "source": []
  },
  {
   "cell_type": "code",
   "execution_count": null,
   "metadata": {},
   "outputs": [],
   "source": []
  },
  {
   "cell_type": "code",
   "execution_count": null,
   "metadata": {},
   "outputs": [],
   "source": []
  }
 ],
 "metadata": {
  "kernelspec": {
   "display_name": "Python 3",
   "language": "python",
   "name": "python3"
  },
  "language_info": {
   "codemirror_mode": {
    "name": "ipython",
    "version": 3
   },
   "file_extension": ".py",
   "mimetype": "text/x-python",
   "name": "python",
   "nbconvert_exporter": "python",
   "pygments_lexer": "ipython3",
   "version": "3.7.3"
  }
 },
 "nbformat": 4,
 "nbformat_minor": 2
}
